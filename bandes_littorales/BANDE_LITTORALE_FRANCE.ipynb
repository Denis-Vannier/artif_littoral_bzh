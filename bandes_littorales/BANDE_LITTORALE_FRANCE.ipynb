{
 "cells": [
  {
   "attachments": {},
   "cell_type": "markdown",
   "metadata": {},
   "source": [
    "### Découpage de bandes d'égales distances à la mer le long du littoral de l'hexagone"
   ]
  },
  {
   "cell_type": "markdown",
   "metadata": {},
   "source": [
    "*Denis Vannier - Le Plan Studio - 2024 - https://leplan.studio/ - https://github.com/Denis-Vannier*"
   ]
  },
  {
   "cell_type": "code",
   "execution_count": 6,
   "metadata": {},
   "outputs": [],
   "source": [
    "import pandas as pd\n",
    "pd.set_option(\"display.max_columns\", None)\n",
    "pd.set_option('display.float_format', lambda x: '%.9f' % x)\n",
    "import requests\n",
    "import datetime\n",
    "import matplotlib.pyplot as plt\n",
    "import geopandas as gpd\n",
    "import mapclassify\n",
    "import os\n",
    "import numpy as np\n",
    "import shapely\n",
    "#import pygeos"
   ]
  },
  {
   "cell_type": "code",
   "execution_count": 29,
   "metadata": {},
   "outputs": [],
   "source": [
    "\n",
    "### Codes Insee des communes classées Loi Littoral (sauf type \"lacustre\") en france métropolitaine : \n",
    "# FRLitt=[\"14060\",\"14342\",\"14480\",\"17015\",\"17034\",\"17098\",\"17146\",\"17160\",\"17230\",\"17248\",\"17299\",\"17325\",\"17328\",\"17346\",\"17353\",\"17375\",\"17405\",\"17410\",\"17429\",\"17437\",\"17449\",\"17463\",\"22152\",\"22204\",\"22256\",\"22264\",\"22311\",\"22347\",\"22362\",\"22383\",\"27064\",\"27169\",\"27260\",\"27388\",\"27485\",\"27601\",\"29032\",\"29254\",\"29302\",\"30341\",\"33038\",\"33058\",\"33073\",\"33146\",\"33172\",\"33208\",\"33314\",\"33370\",\"33383\",\"33389\",\"33395\",\"33405\",\"33423\",\"33476\",\"33490\",\"33493\",\"33521\",\"33538\",\"44019\",\"44021\",\"44033\",\"44046\",\"44052\",\"44061\",\"44080\",\"44103\",\"44116\",\"44192\",\"50407\",\"50543\",\"56004\",\"56030\",\"62643\",\"62894\",\"64102\",\"64140\",\"76169\",\"76684\",\"85004\",\"85112\",\"85243\",\"2B346\",\"06004\",\"06011\",\"06027\",\"06029\",\"06032\",\"06059\",\"06079\",\"06083\",\"06088\",\"06104\",\"06121\",\"06123\",\"06138\",\"06155\",\"06159\",\"06161\",\"11024\",\"11144\",\"11145\",\"11170\",\"11188\",\"11202\",\"11262\",\"11266\",\"11285\",\"11379\",\"13004\",\"13014\",\"13021\",\"13022\",\"13026\",\"13028\",\"13033\",\"13039\",\"13047\",\"13054\",\"13055\",\"13056\",\"13063\",\"13077\",\"13078\",\"13081\",\"13088\",\"13092\",\"13096\",\"13098\",\"13104\",\"13117\",\"14001\",\"14009\",\"14021\",\"14022\",\"14024\",\"14059\",\"14066\",\"14079\",\"14117\",\"14165\",\"14166\",\"14172\",\"14191\",\"14202\",\"14204\",\"14220\",\"14225\",\"14239\",\"14281\",\"14298\",\"14305\",\"14312\",\"14318\",\"14325\",\"14333\",\"14338\",\"14354\",\"14365\",\"14377\",\"14384\",\"14401\",\"14409\",\"14430\",\"14488\",\"14492\",\"14515\",\"14530\",\"14536\",\"14562\",\"14565\",\"14591\",\"14605\",\"14652\",\"14665\",\"14701\",\"14709\",\"14715\",\"14724\",\"14739\",\"14745\",\"14754\",\"14755\",\"17004\",\"17010\",\"17019\",\"17021\",\"17028\",\"17051\",\"17058\",\"17064\",\"17079\",\"17091\",\"17093\",\"17094\",\"17121\",\"17140\",\"17151\",\"17153\",\"17155\",\"17161\",\"17168\",\"17185\",\"17190\",\"17207\",\"17219\",\"17222\",\"17225\",\"17237\",\"17247\",\"17264\",\"17265\",\"17286\",\"17297\",\"17300\",\"17306\",\"17318\",\"17323\",\"17329\",\"17333\",\"17337\",\"17351\",\"17360\",\"17369\",\"17380\",\"17385\",\"17409\",\"17411\",\"17421\",\"17452\",\"17461\",\"17483\",\"17484\",\"17485\",\"17486\",\"22016\",\"22049\",\"22054\",\"22055\",\"22081\",\"22085\",\"22093\",\"22094\",\"22103\",\"22106\",\"22111\",\"22113\",\"22127\",\"22134\",\"22143\",\"22162\",\"22166\",\"22168\",\"22174\",\"22179\",\"22186\",\"22187\",\"22194\",\"22195\",\"22196\",\"22197\",\"22198\",\"22201\",\"22209\",\"22210\",\"22213\",\"22214\",\"22218\",\"22221\",\"22222\",\"22224\",\"22226\",\"22233\",\"22242\",\"22251\",\"22278\",\"22282\",\"22302\",\"22319\",\"22325\",\"22327\",\"22343\",\"22349\",\"22350\",\"22353\",\"22363\",\"22377\",\"22379\",\"22385\",\"22389\",\"27233\",\"27243\",\"29001\",\"29003\",\"29006\",\"29008\",\"29017\",\"29019\",\"29021\",\"29022\",\"29023\",\"29028\",\"29030\",\"29031\",\"29037\",\"29039\",\"29040\",\"29042\",\"29043\",\"29044\",\"29045\",\"29046\",\"29053\",\"29056\",\"29057\",\"29058\",\"29063\",\"29064\",\"29072\",\"29073\",\"29075\",\"29077\",\"29078\",\"29079\",\"29080\",\"29082\",\"29083\",\"29084\",\"29085\",\"29090\",\"29091\",\"29098\",\"29099\",\"29101\",\"29103\",\"29104\",\"29109\",\"29112\",\"29117\",\"29120\",\"29130\",\"29132\",\"29133\",\"29135\",\"29137\",\"29140\",\"29150\",\"29151\",\"29153\",\"29155\",\"29158\",\"29165\",\"29166\",\"29168\",\"29171\",\"29172\",\"29176\",\"29177\",\"29178\",\"29184\",\"29185\",\"29186\",\"29188\",\"29189\",\"29190\",\"29192\",\"29195\",\"29196\",\"29197\",\"29198\",\"29201\",\"29206\",\"29209\",\"29212\",\"29214\",\"29215\",\"29217\",\"29218\",\"29220\",\"29221\",\"29225\",\"29226\",\"29228\",\"29235\",\"29236\",\"29238\",\"29239\",\"29240\",\"29251\",\"29252\",\"29256\",\"29257\",\"29259\",\"29273\",\"29276\",\"29279\",\"29280\",\"29282\",\"29284\",\"29287\",\"29289\",\"29290\",\"29292\",\"29293\",\"29298\",\"30003\",\"30133\",\"30276\",\"33005\",\"33009\",\"33011\",\"33019\",\"33051\",\"33193\",\"33199\",\"33229\",\"33236\",\"33300\",\"33333\",\"33514\",\"33527\",\"33540\",\"33541\",\"33544\",\"34003\",\"34023\",\"34024\",\"34039\",\"34050\",\"34108\",\"34127\",\"34129\",\"34143\",\"34150\",\"34151\",\"34154\",\"34157\",\"34159\",\"34192\",\"34198\",\"34209\",\"34213\",\"34299\",\"34301\",\"34324\",\"34329\",\"34332\",\"34333\",\"34337\",\"34344\",\"35049\",\"35078\",\"35093\",\"35132\",\"35181\",\"35186\",\"35228\",\"35241\",\"35247\",\"35255\",\"35256\",\"35259\",\"35263\",\"35284\",\"35287\",\"35288\",\"35299\",\"35306\",\"35314\",\"35358\",\"35361\",\"40065\",\"40133\",\"40157\",\"40181\",\"40184\",\"40187\",\"40209\",\"40266\",\"40296\",\"40304\",\"40310\",\"40312\",\"40326\",\"40328\",\"44006\",\"44010\",\"44012\",\"44049\",\"44055\",\"44069\",\"44097\",\"44106\",\"44125\",\"44126\",\"44131\",\"44132\",\"44135\",\"44136\",\"44154\",\"44182\",\"44184\",\"44211\",\"50003\",\"50015\",\"50021\",\"50022\",\"50025\",\"50030\",\"50031\",\"50033\",\"50041\",\"50042\",\"50058\",\"50066\",\"50076\",\"50077\",\"50078\",\"50081\",\"50085\",\"50102\",\"50108\",\"50117\",\"50129\",\"50142\",\"50143\",\"50146\",\"50150\",\"50151\",\"50162\",\"50165\",\"50167\",\"50178\",\"50184\",\"50190\",\"50196\",\"50198\",\"50199\",\"50215\",\"50218\",\"50231\",\"50236\",\"50238\",\"50243\",\"50253\",\"50267\",\"50268\",\"50272\",\"50288\",\"50296\",\"50332\",\"50342\",\"50349\",\"50353\",\"50402\",\"50403\",\"50408\",\"50410\",\"50412\",\"50417\",\"50421\",\"50429\",\"50433\",\"50442\",\"50471\",\"50479\",\"50481\",\"50490\",\"50496\",\"50507\",\"50509\",\"50517\",\"50523\",\"50532\",\"50562\",\"50576\",\"50585\",\"50603\",\"50604\",\"50612\",\"50616\",\"56002\",\"56003\",\"56005\",\"56007\",\"56008\",\"56009\",\"56013\",\"56018\",\"56023\",\"56034\",\"56036\",\"56046\",\"56052\",\"56054\",\"56055\",\"56062\",\"56069\",\"56078\",\"56084\",\"56085\",\"56086\",\"56087\",\"56088\",\"56094\",\"56096\",\"56097\",\"56098\",\"56106\",\"56107\",\"56114\",\"56116\",\"56118\",\"56119\",\"56121\",\"56130\",\"56143\",\"56148\",\"56152\",\"56155\",\"56162\",\"56167\",\"56168\",\"56169\",\"56176\",\"56181\",\"56185\",\"56186\",\"56193\",\"56205\",\"56214\",\"56220\",\"56233\",\"56234\",\"56240\",\"56241\",\"56243\",\"56248\",\"56251\",\"56252\",\"56258\",\"56260\",\"56262\",\"59107\",\"59183\",\"59260\",\"59271\",\"59272\",\"59273\",\"59340\",\"59359\",\"59668\",\"62025\",\"62054\",\"62056\",\"62108\",\"62160\",\"62193\",\"62201\",\"62233\",\"62261\",\"62264\",\"62300\",\"62307\",\"62318\",\"62390\",\"62548\",\"62571\",\"62604\",\"62645\",\"62667\",\"62746\",\"62752\",\"62774\",\"62806\",\"62826\",\"62866\",\"62893\",\"62899\",\"64024\",\"64122\",\"64125\",\"64189\",\"64249\",\"64260\",\"64483\",\"64545\",\"66008\",\"66016\",\"66017\",\"66037\",\"66048\",\"66053\",\"66065\",\"66148\",\"66171\",\"66176\",\"66180\",\"66182\",\"66186\",\"66190\",\"66212\",\"76079\",\"76167\",\"76192\",\"76194\",\"76217\",\"76232\",\"76254\",\"76259\",\"76266\",\"76305\",\"76349\",\"76351\",\"76361\",\"76375\",\"76390\",\"76407\",\"76481\",\"76489\",\"76493\",\"76508\",\"76515\",\"76533\",\"76552\",\"76564\",\"76595\",\"76600\",\"76605\",\"76613\",\"76618\",\"76637\",\"76651\",\"76655\",\"76657\",\"76660\",\"76663\",\"76670\",\"76683\",\"76693\",\"76711\",\"76720\",\"76726\",\"76735\",\"76736\",\"76754\",\"80039\",\"80110\",\"80182\",\"80228\",\"80303\",\"80333\",\"80464\",\"80533\",\"80600\",\"80618\",\"80633\",\"80649\",\"80713\",\"80714\",\"80721\",\"80826\",\"83009\",\"83019\",\"83034\",\"83036\",\"83042\",\"83048\",\"83061\",\"83062\",\"83065\",\"83068\",\"83069\",\"83070\",\"83071\",\"83090\",\"83098\",\"83101\",\"83107\",\"83112\",\"83115\",\"83118\",\"83119\",\"83123\",\"83126\",\"83129\",\"83137\",\"83152\",\"83153\",\"85001\",\"85011\",\"85012\",\"85018\",\"85029\",\"85035\",\"85049\",\"85083\",\"85088\",\"85104\",\"85106\",\"85113\",\"85114\",\"85127\",\"85163\",\"85164\",\"85185\",\"85194\",\"85222\",\"85226\",\"85234\",\"85255\",\"85267\",\"85278\",\"85288\",\"85294\",\"85297\",\"85307\",\"2A004\",\"2A006\",\"2A008\",\"2A017\",\"2A035\",\"2A041\",\"2A048\",\"2A065\",\"2A070\",\"2A090\",\"2A092\",\"2A098\",\"2A114\",\"2A130\",\"2A139\",\"2A163\",\"2A189\",\"2A197\",\"2A198\",\"2A203\",\"2A212\",\"2A215\",\"2A228\",\"2A247\",\"2A249\",\"2A269\",\"2A272\",\"2A276\",\"2A279\",\"2A295\",\"2A348\",\"2A351\",\"2A362\",\"2B009\",\"2B010\",\"2B020\",\"2B030\",\"2B033\",\"2B034\",\"2B037\",\"2B042\",\"2B043\",\"2B046\",\"2B049\",\"2B050\",\"2B057\",\"2B058\",\"2B077\",\"2B086\",\"2B087\",\"2B093\",\"2B107\",\"2B109\",\"2B120\",\"2B121\",\"2B123\",\"2B134\",\"2B143\",\"2B148\",\"2B150\",\"2B152\",\"2B159\",\"2B168\",\"2B170\",\"2B178\",\"2B182\",\"2B183\",\"2B187\",\"2B199\",\"2B205\",\"2B207\",\"2B224\",\"2B233\",\"2B242\",\"2B251\",\"2B261\",\"2B277\",\"2B281\",\"2B283\",\"2B286\",\"2B298\",\"2B301\",\"2B303\",\"2B305\",\"2B307\",\"2B309\",\"2B311\",\"2B313\",\"2B314\",\"2B318\",\"2B319\",\"2B320\",\"2B327\",\"2B335\",\"2B342\",\"2B343\",\"2B353\",\"50099\",\"50388\",\"33097\",\"33203\",\"33214\",\"33529\",\"40046\",\"40108\",\"40217\",\"40257\",\"40287\"]\n",
    "# ComFRLitt=Com[Com['INSEE_COM'].isin(FRLitt)]\n",
    "# ComFRLitt=ComFRLitt[[\"INSEE_COM\",\"NOM\",\"POPULATION\",\"SURFACE_HA\",\"CODE_SIREN\",\"SIREN_EPCI\",\"geometry\"]]\n",
    "# ComFRLitt=ComFRLitt.to_crs(\"EPSG:4326\")\n",
    "#ComFRLitt.to_file(\"COM_LITT_FRANCE.geojson\")\n"
   ]
  },
  {
   "cell_type": "code",
   "execution_count": 30,
   "metadata": {},
   "outputs": [
    {
     "name": "stdout",
     "output_type": "stream",
     "text": [
      "<class 'geopandas.geodataframe.GeoDataFrame'>\n",
      "RangeIndex: 95785 entries, 0 to 95784\n",
      "Data columns (total 29 columns):\n",
      " #   Column    Non-Null Count  Dtype   \n",
      "---  ------    --------------  -----   \n",
      " 0   TYPETC    95784 non-null  object  \n",
      " 1   CATCOA    60365 non-null  float64 \n",
      " 2   NATSUR    59508 non-null  object  \n",
      " 3   CATSLC    35291 non-null  float64 \n",
      " 4   bdouvr    14687 non-null  object  \n",
      " 5   POSACC    95784 non-null  float64 \n",
      " 6   accsou    95784 non-null  float64 \n",
      " 7   VERACC    67159 non-null  float64 \n",
      " 8   descrp    7299 non-null   object  \n",
      " 9   mntdsc    67107 non-null  object  \n",
      " 10  mntacc    67095 non-null  float64 \n",
      " 11  mmaree    67095 non-null  float64 \n",
      " 12  mmaacc    67107 non-null  float64 \n",
      " 13  mmadsc    67095 non-null  object  \n",
      " 14  phmval    95784 non-null  float64 \n",
      " 15  phmacc    95784 non-null  float64 \n",
      " 16  ELEVAT    95784 non-null  float64 \n",
      " 17  sysalt    95784 non-null  float64 \n",
      " 18  SORDAT    95784 non-null  object  \n",
      " 19  origin    95784 non-null  float64 \n",
      " 20  catima    28393 non-null  float64 \n",
      " 21  ressou    90958 non-null  float64 \n",
      " 22  trajec    95784 non-null  float64 \n",
      " 23  numlev    117 non-null    object  \n",
      " 24  numdep    95784 non-null  object  \n",
      " 25  refhis    95784 non-null  object  \n",
      " 26  orgder    95784 non-null  float64 \n",
      " 27  limarc    7784 non-null   object  \n",
      " 28  geometry  94855 non-null  geometry\n",
      "dtypes: float64(17), geometry(1), object(11)\n",
      "memory usage: 21.2+ MB\n"
     ]
    }
   ],
   "source": [
    "# Source : Limite terre-mer (base Ortho-Littoral) https://geoservices.ign.fr/limite-terre-mer \n",
    "# La ligne littorale a été modifiée dans Qgis, afin de suivre la jurisprudence sur la loi littoral, qui indique la manière de calculer la bande des 100 mètres \n",
    "LittFr =  gpd.read_file(\"BANDE_LITTORALE/Limite_terre_mer_France_metropolitaine/SHAPE/Limite_terre-mer_France_metropolitaine_ligne.shp\")\n",
    "LittFr.info()"
   ]
  },
  {
   "cell_type": "markdown",
   "metadata": {},
   "source": [
    "On commence par créer une série de buffers de chaque côté de la limite terre-mer, à 100, 200, 500, 1km, 5km et 10km."
   ]
  },
  {
   "cell_type": "code",
   "execution_count": 31,
   "metadata": {},
   "outputs": [
    {
     "name": "stderr",
     "output_type": "stream",
     "text": [
      "/var/folders/zf/sc5qjn6x54b02sbxg3k9jbkr0000gn/T/ipykernel_7259/3032578381.py:2: FutureWarning: Assigning CRS to a GeoDataFrame without a geometry column is now deprecated and will not be supported in the future.\n",
      "  LittBuff100 = gpd.GeoDataFrame(gpd.GeoSeries(LittBuff100), crs=\"EPSG:2154\")\n"
     ]
    },
    {
     "name": "stdout",
     "output_type": "stream",
     "text": [
      "<class 'geopandas.geodataframe.GeoDataFrame'>\n",
      "Int64Index: 1 entries, 0 to 0\n",
      "Data columns (total 1 columns):\n",
      " #   Column    Non-Null Count  Dtype   \n",
      "---  ------    --------------  -----   \n",
      " 0   geometry  1 non-null      geometry\n",
      "dtypes: geometry(1)\n",
      "memory usage: 124.0 bytes\n"
     ]
    }
   ],
   "source": [
    "#### Calcul de la bande des 100 mètres\n",
    "\n",
    "# La base de données des limites terre-mer indique une marge d'erreur jusqu'à 5 mètres. \n",
    "# Compte tenu de l'importance de cette limite des 100 mètres dans les contentieux juridiques liés aux constructions, \n",
    "# on décide d'intégrer la marge d'erreur en appliquant un buffer de 95m au lieu de 100m.\n",
    "LittBuff100 = LittFr.buffer(95, cap_style=1)\n",
    "LittBuff100 = gpd.GeoDataFrame(gpd.GeoSeries(LittBuff100), crs=\"EPSG:2154\")\n",
    "LittBuff100=LittBuff100.rename(columns={0:'geometry'}).set_geometry('geometry')\n",
    "LittBuff100_OK=gpd.GeoDataFrame(\n",
    "  geometry=[LittBuff100.unary_union], crs=\"EPSG:2154\").explode(\n",
    "  index_parts=False).reset_index(\n",
    "  drop=True)\n",
    "LittBuff100_OK=LittBuff100_OK.dissolve()\n",
    "\n",
    "#### Bande de 0 À 200 mètres\n",
    "\n",
    "LittBuff200 = LittFr.buffer(195, cap_style=1)\n",
    "LittBuff200 = gpd.GeoDataFrame(gpd.GeoSeries(LittBuff200), crs=\"EPSG:2154\")\n",
    "LittBuff200=LittBuff200.rename(columns={0:'geometry'}).set_geometry('geometry')\n",
    "LittBuff200_OK=gpd.GeoDataFrame(\n",
    "  geometry=[LittBuff200.unary_union], crs=\"EPSG:2154\").explode(\n",
    "  index_parts=False).reset_index(\n",
    "  drop=True)\n",
    "LittBuff200_OK=LittBuff200_OK.dissolve()\n",
    "\n",
    "#### Bande de 0 À 500 mètres\n",
    "\n",
    "LittBuff500 = LittFr.buffer(495, cap_style=1)\n",
    "LittBuff500 = gpd.GeoDataFrame(gpd.GeoSeries(LittBuff500), crs=\"EPSG:2154\")\n",
    "LittBuff500=LittBuff500.rename(columns={0:'geometry'}).set_geometry('geometry')\n",
    "LittBuff500_OK=gpd.GeoDataFrame(\n",
    "  geometry=[LittBuff500.unary_union], crs=\"EPSG:2154\").explode(\n",
    "  index_parts=False).reset_index(\n",
    "  drop=True)\n",
    "LittBuff500_OK=LittBuff500_OK.dissolve()\n",
    "\n",
    "#### Bande de 0 À 1 km\n",
    "\n",
    "LittBuff1km = LittFr.buffer(995, cap_style=1)\n",
    "LittBuff1km = gpd.GeoDataFrame(gpd.GeoSeries(LittBuff1km), crs=\"EPSG:2154\")\n",
    "LittBuff1km=LittBuff1km.rename(columns={0:'geometry'}).set_geometry('geometry')\n",
    "LittBuff1km_OK=gpd.GeoDataFrame(\n",
    "  geometry=[LittBuff1km.unary_union], crs=\"EPSG:2154\").explode(\n",
    "  index_parts=False).reset_index(\n",
    "  drop=True)\n",
    "LittBuff1km_OK=LittBuff1km_OK.dissolve()\n",
    "\n",
    "#### Bande de 0 À 5 km\n",
    "\n",
    "LittBuff5km = LittFr.buffer(4495, cap_style=1)\n",
    "LittBuff5km = gpd.GeoDataFrame(gpd.GeoSeries(LittBuff5km), crs=\"EPSG:2154\")\n",
    "LittBuff5km=LittBuff5km.rename(columns={0:'geometry'}).set_geometry('geometry')\n",
    "LittBuff5km_OK=gpd.GeoDataFrame(\n",
    "  geometry=[LittBuff5km.unary_union], crs=\"EPSG:2154\").explode(\n",
    "  index_parts=False).reset_index(\n",
    "  drop=True)\n",
    "LittBuff5km_OK=LittBuff5km_OK.dissolve()\n",
    "\n",
    "#### Bande de 0 À 10 km\n",
    "\n",
    "LittBuff10km = LittFr.buffer(9995, cap_style=1)\n",
    "LittBuff10km = gpd.GeoDataFrame(gpd.GeoSeries(LittBuff10km), crs=\"EPSG:2154\")\n",
    "LittBuff10km=LittBuff10km.rename(columns={0:'geometry'}).set_geometry('geometry')\n",
    "LittBuff10km_OK=gpd.GeoDataFrame(\n",
    "  geometry=[LittBuff10km.unary_union], crs=\"EPSG:2154\").explode(\n",
    "  index_parts=False).reset_index(\n",
    "  drop=True)\n",
    "LittBuff10km_OK=LittBuff10km_OK.dissolve()"
   ]
  },
  {
   "cell_type": "markdown",
   "metadata": {},
   "source": [
    "Pour conserver uniquement les parties des buffers situées dans les terres, on les superpose à la carte des terres, fournies par le SHOM"
   ]
  },
  {
   "cell_type": "code",
   "execution_count": 16,
   "metadata": {},
   "outputs": [],
   "source": [
    "# Création d'un masque des terres émergées :\n",
    "polyg_TM= gpd.read_file(\"BANDE_LITTORALE/Limite_terre_mer_France_metropolitaine/SHAPE/Limite_terre-mer_France_metropolitaine_polygones.shp\")\n",
    "Com_OK=polyg_TM.dissolve()\n",
    "Com_OK=Com_OK[[\"geometry\"]]\n",
    "\n",
    "# Chargement des bandes brutes :\n",
    "LittBuff10km=gpd.read_file(\"BANDE_LITTORALE/TEMP/BANDE_LITT10km_dissolve.shp\")\n",
    "LittBuff5km=gpd.read_file(\"BANDE_LITTORALE/TEMP/BANDE_LITT5km_dissolve.shp\")\n",
    "LittBuff1km=gpd.read_file(\"BANDE_LITTORALE/TEMP/BANDE_LITT1km_dissolve.shp\")\n",
    "LittBuff500=gpd.read_file(\"BANDE_LITTORALE/TEMP/BANDE_LITT500_dissolve.shp\")\n",
    "LittBuff200=gpd.read_file(\"BANDE_LITTORALE/TEMP/BANDE_LITT200_dissolve.shp\")\n",
    "LittBuff100=gpd.read_file(\"BANDE_LITTORALE/TEMP/BANDE_LITT100_dissolve.shp\")\n",
    "\n",
    "Bande100mLitt=Com_OK.overlay(LittBuff100, how=\"intersection\")\n",
    "Bande100mLitt=Bande100mLitt.dissolve()\n",
    "Bande100mLitt=Bande100mLitt.reset_index()\n",
    "Bande100mLitt=Bande100mLitt[[\"geometry\"]]\n",
    "Bande100mLitt.to_file(\"BANDE_LITTORALE/BANDE_100m_LITT_FR.shp\")\n",
    "\n",
    "Bande200mLitt=Com_OK.overlay(LittBuff200, how=\"intersection\")\n",
    "Bande200mLitt=Bande200mLitt.dissolve()\n",
    "Bande200mLitt=Bande200mLitt.reset_index()\n",
    "Bande200mLitt=Bande200mLitt[[\"geometry\"]]\n",
    "Bande200mLitt.to_file(\"BANDE_LITTORALE/BANDE_200m_LITT_FR.shp\")\n",
    "\n",
    "Bande500mLitt=Com_OK.overlay(LittBuff500, how=\"intersection\")\n",
    "Bande500mLitt=Bande500mLitt.dissolve()\n",
    "Bande500mLitt=Bande500mLitt.reset_index()\n",
    "Bande500mLitt=Bande500mLitt[[\"geometry\"]]\n",
    "Bande500mLitt.to_file(\"BANDE_LITTORALE/BANDE_500m_LITT_FR.shp\")\n",
    "\n",
    "Bande1kmLitt=Com_OK.overlay(LittBuff1km, how=\"intersection\")\n",
    "Bande1kmLitt=Bande1kmLitt.dissolve()\n",
    "Bande1kmLitt=Bande1kmLitt.reset_index()\n",
    "Bande1kmLitt=Bande1kmLitt[[\"geometry\"]]\n",
    "Bande1kmLitt.to_file(\"BANDE_LITTORALE/BANDE_1km_LITT_FR.shp\")\n",
    "\n",
    "Bande5kmLitt=Com_OK.overlay(LittBuff5km, how=\"intersection\")\n",
    "Bande5kmLitt=Bande5kmLitt.dissolve()\n",
    "Bande5kmLitt=Bande5kmLitt.reset_index()\n",
    "Bande5kmLitt=Bande5kmLitt[[\"geometry\"]]\n",
    "Bande5kmLitt.to_file(\"BANDE_LITTORALE/BANDE_5km_LITT_FR.shp\")\n",
    "\n",
    "Bande10kmLitt=Com_OK.overlay(LittBuff10km, how=\"intersection\")\n",
    "Bande10kmLitt=Bande10kmLitt.dissolve()\n",
    "Bande10kmLitt=Bande10kmLitt.reset_index()\n",
    "Bande10kmLitt=Bande10kmLitt[[\"geometry\"]]\n",
    "Bande10kmLitt.to_file(\"BANDE_LITTORALE/BANDE_10km_LITT_FR.shp\")"
   ]
  },
  {
   "cell_type": "code",
   "execution_count": 2,
   "metadata": {},
   "outputs": [],
   "source": [
    "# Différenciation des bandes littorales :\n",
    "\n",
    "Bande_10km=gpd.read_file(\"BANDE_LITTORALE/BANDE_10km_LITT_FR.shp\")\n",
    "Bande_5km=gpd.read_file(\"BANDE_LITTORALE/BANDE_5km_LITT_FR.shp\")\n",
    "Bande_1km=gpd.read_file(\"BANDE_LITTORALE/BANDE_1km_LITT_FR.shp\")\n",
    "Bande_500m=gpd.read_file(\"BANDE_LITTORALE/BANDE_500m_LITT_FR.shp\")\n",
    "Bande_200m=gpd.read_file(\"BANDE_LITTORALE/BANDE_200m_LITT_FR.shp\")"
   ]
  },
  {
   "cell_type": "code",
   "execution_count": 3,
   "metadata": {},
   "outputs": [],
   "source": [
    "Bande_100m=gpd.read_file(\"BANDE_LITTORALE/BANDE_100m_LITT_FR.shp\")\n",
    "Bande_100m[\"BANDE_LITT\"]=\"100m\"\n",
    "Bande_100m=Bande_100m[[\"BANDE_LITT\",\"geometry\"]]"
   ]
  },
  {
   "cell_type": "code",
   "execution_count": null,
   "metadata": {},
   "outputs": [],
   "source": [
    "Bande_5_10km=gpd.overlay(Bande_10km, Bande_5km, how=\"difference\", keep_geom_type=None, make_valid=True)\n",
    "Bande_5_10km[\"BANDE_LITT\"]=\"5_10km\"\n",
    "Bande_5_10km=Bande_5_10km[[\"BANDE_LITT\",\"geometry\"]]\n",
    "Bande_5_10km.to_file(\"BANDE_LITTORALE/BANDE_5_10km_LITT_FR.shp\")"
   ]
  },
  {
   "cell_type": "code",
   "execution_count": 4,
   "metadata": {},
   "outputs": [
    {
     "name": "stderr",
     "output_type": "stream",
     "text": [
      "/var/folders/zf/sc5qjn6x54b02sbxg3k9jbkr0000gn/T/ipykernel_47393/2346677090.py:11: UserWarning: `keep_geom_type=True` in overlay resulted in 2426 dropped geometries of different geometry types than df1 has. Set `keep_geom_type=False` to retain all geometries\n",
      "  Bande_200_500m=gpd.overlay(Bande_500m, Bande_200m, how=\"difference\", keep_geom_type=None, make_valid=True)\n",
      "/var/folders/zf/sc5qjn6x54b02sbxg3k9jbkr0000gn/T/ipykernel_47393/2346677090.py:16: UserWarning: `keep_geom_type=True` in overlay resulted in 3500 dropped geometries of different geometry types than df1 has. Set `keep_geom_type=False` to retain all geometries\n",
      "  Bande_100_200m=gpd.overlay(Bande_200m, Bande_100m, how=\"difference\", keep_geom_type=None, make_valid=True)\n"
     ]
    },
    {
     "ename": "NameError",
     "evalue": "name 'Bande_5_10km' is not defined",
     "output_type": "error",
     "traceback": [
      "\u001b[0;31m---------------------------------------------------------------------------\u001b[0m",
      "\u001b[0;31mNameError\u001b[0m                                 Traceback (most recent call last)",
      "\u001b[0;32m/var/folders/zf/sc5qjn6x54b02sbxg3k9jbkr0000gn/T/ipykernel_47393/2346677090.py\u001b[0m in \u001b[0;36m<module>\u001b[0;34m\u001b[0m\n\u001b[1;32m     19\u001b[0m \u001b[0mBande_100_200m\u001b[0m\u001b[0;34m.\u001b[0m\u001b[0mto_file\u001b[0m\u001b[0;34m(\u001b[0m\u001b[0;34m\"BANDE_LITTORALE/BANDE_100_200m_LITT_FR.shp\"\u001b[0m\u001b[0;34m)\u001b[0m\u001b[0;34m\u001b[0m\u001b[0;34m\u001b[0m\u001b[0m\n\u001b[1;32m     20\u001b[0m \u001b[0;34m\u001b[0m\u001b[0m\n\u001b[0;32m---> 21\u001b[0;31m \u001b[0mBande_Littorale\u001b[0m\u001b[0;34m=\u001b[0m\u001b[0mpd\u001b[0m\u001b[0;34m.\u001b[0m\u001b[0mconcat\u001b[0m\u001b[0;34m(\u001b[0m\u001b[0;34m[\u001b[0m\u001b[0mBande_100m\u001b[0m\u001b[0;34m,\u001b[0m \u001b[0mBande_100_200m\u001b[0m\u001b[0;34m,\u001b[0m \u001b[0mBande_200_500m\u001b[0m\u001b[0;34m,\u001b[0m \u001b[0mBande_500m_1km\u001b[0m\u001b[0;34m,\u001b[0m \u001b[0mBande_1_5km\u001b[0m\u001b[0;34m,\u001b[0m \u001b[0mBande_5_10km\u001b[0m\u001b[0;34m]\u001b[0m\u001b[0;34m)\u001b[0m\u001b[0;34m\u001b[0m\u001b[0;34m\u001b[0m\u001b[0m\n\u001b[0m\u001b[1;32m     22\u001b[0m \u001b[0mBande_Littorale\u001b[0m\u001b[0;34m.\u001b[0m\u001b[0mto_file\u001b[0m\u001b[0;34m(\u001b[0m\u001b[0;34m\"BANDE_LITTORALE/BANDE_LITTORALE_SECTEURS.shp\"\u001b[0m\u001b[0;34m)\u001b[0m\u001b[0;34m\u001b[0m\u001b[0;34m\u001b[0m\u001b[0m\n\u001b[1;32m     23\u001b[0m \u001b[0mBande_Littorale\u001b[0m\u001b[0;34m.\u001b[0m\u001b[0minfo\u001b[0m\u001b[0;34m(\u001b[0m\u001b[0;34m)\u001b[0m\u001b[0;34m\u001b[0m\u001b[0;34m\u001b[0m\u001b[0m\n",
      "\u001b[0;31mNameError\u001b[0m: name 'Bande_5_10km' is not defined"
     ]
    }
   ],
   "source": [
    "Bande_1_5km=gpd.overlay(Bande_5km, Bande_1km, how=\"difference\", keep_geom_type=None, make_valid=True)\n",
    "Bande_1_5km[\"BANDE_LITT\"]=\"1_5km\"\n",
    "Bande_1_5km=Bande_1_5km[[\"BANDE_LITT\",\"geometry\"]]\n",
    "Bande_1_5km.to_file(\"BANDE_LITTORALE/BANDE_1_5km_LITT_FR.shp\")\n",
    "\n",
    "Bande_500m_1km=gpd.overlay(Bande_1km, Bande_500m, how=\"difference\", keep_geom_type=None, make_valid=True)\n",
    "Bande_500m_1km[\"BANDE_LITT\"]=\"500m_1km\"\n",
    "Bande_500m_1km=Bande_500m_1km[[\"BANDE_LITT\",\"geometry\"]]\n",
    "Bande_500m_1km.to_file(\"BANDE_LITTORALE/BANDE_500m_1km_LITT_FR.shp\")\n",
    "\n",
    "Bande_200_500m=gpd.overlay(Bande_500m, Bande_200m, how=\"difference\", keep_geom_type=None, make_valid=True)\n",
    "Bande_200_500m[\"BANDE_LITT\"]=\"200_500m\"\n",
    "Bande_200_500m=Bande_200_500m[[\"BANDE_LITT\",\"geometry\"]]\n",
    "Bande_200_500m.to_file(\"BANDE_LITTORALE/BANDE_200_500m_LITT_FR.shp\")\n",
    "\n",
    "Bande_100_200m=gpd.overlay(Bande_200m, Bande_100m, how=\"difference\", keep_geom_type=None, make_valid=True)\n",
    "Bande_100_200m[\"BANDE_LITT\"]=\"100_200m\"\n",
    "Bande_100_200m=Bande_100_200m[[\"BANDE_LITT\",\"geometry\"]]\n",
    "Bande_100_200m.to_file(\"BANDE_LITTORALE/BANDE_100_200m_LITT_FR.shp\")\n",
    "\n",
    "\n"
   ]
  },
  {
   "cell_type": "code",
   "execution_count": 5,
   "metadata": {},
   "outputs": [],
   "source": [
    "Bande_5_10km=gpd.read_file(\"BANDE_LITTORALE/BANDE_5_10km_LITT_FR.shp\")"
   ]
  },
  {
   "cell_type": "code",
   "execution_count": 6,
   "metadata": {},
   "outputs": [
    {
     "name": "stdout",
     "output_type": "stream",
     "text": [
      "<class 'geopandas.geodataframe.GeoDataFrame'>\n",
      "Int64Index: 6 entries, 0 to 0\n",
      "Data columns (total 2 columns):\n",
      " #   Column      Non-Null Count  Dtype   \n",
      "---  ------      --------------  -----   \n",
      " 0   BANDE_LITT  6 non-null      object  \n",
      " 1   geometry    6 non-null      geometry\n",
      "dtypes: geometry(1), object(1)\n",
      "memory usage: 144.0+ bytes\n"
     ]
    }
   ],
   "source": [
    "Bande_Littorale=pd.concat([Bande_100m, Bande_100_200m, Bande_200_500m, Bande_500m_1km, Bande_1_5km, Bande_5_10km])\n",
    "Bande_Littorale.to_file(\"BANDE_LITTORALE/BANDE_LITTORALE_SECTEURS.shp\")\n",
    "Bande_Littorale.info()"
   ]
  },
  {
   "cell_type": "markdown",
   "metadata": {},
   "source": [
    "#### *Simplification et nettoyage avec Mapshapper ((simplif, snap, clean))*"
   ]
  },
  {
   "cell_type": "markdown",
   "metadata": {},
   "source": [
    "#### Découpage de la bande littorale par communes "
   ]
  },
  {
   "cell_type": "code",
   "execution_count": 12,
   "metadata": {},
   "outputs": [
    {
     "name": "stderr",
     "output_type": "stream",
     "text": [
      "/Users/denisvannier/opt/anaconda3/envs/GEODATA/lib/python3.9/site-packages/geopandas/geodataframe.py:2196: UserWarning: `keep_geom_type=True` in overlay resulted in 2889 dropped geometries of different geometry types than df1 has. Set `keep_geom_type=False` to retain all geometries\n",
      "  return geopandas.overlay(\n"
     ]
    },
    {
     "name": "stdout",
     "output_type": "stream",
     "text": [
      "<class 'geopandas.geodataframe.GeoDataFrame'>\n",
      "RangeIndex: 7263 entries, 0 to 7262\n",
      "Data columns (total 6 columns):\n",
      " #   Column      Non-Null Count  Dtype   \n",
      "---  ------      --------------  -----   \n",
      " 0   BANDE_LITT  7263 non-null   object  \n",
      " 1   numdep      7263 non-null   object  \n",
      " 2   INSEE_COM   7263 non-null   object  \n",
      " 3   NOM         7263 non-null   object  \n",
      " 4   geometry    7263 non-null   geometry\n",
      " 5   SURFACE_M2  7263 non-null   float64 \n",
      "dtypes: float64(1), geometry(1), object(4)\n",
      "memory usage: 340.6+ KB\n"
     ]
    }
   ],
   "source": [
    "# On utilise le découpage communal issu de la base Admin Express : https://geoservices.ign.fr/adminexpress\n",
    "Com=gpd.read_file(\"ADMIN-EXPRESS/1_DONNEES_LIVRAISON_2023-12-00156/ADE_3-2_SHP_LAMB93_FXX-ED2023-12-19/COMMUNE.shp\")\n",
    "\n",
    "# Mais ces découpages communaux, sur la côté, ne respectent pas la limite terre-mer, ce qui pose des problèmes dans les estuaires et certaines îles. \n",
    "# On va donc réduire les emprises des communes aux polygones des terres émergées, fournies par le SHOM .\n",
    "polyg_TM= gpd.read_file(\"BANDE_LITTORALE/Limite_terre_mer_France_metropolitaine/SHAPE/Limite_terre-mer_France_metropolitaine_polygones.shp\")\n",
    "\n",
    "polyg_TM=polyg_TM.to_crs(\"EPSG:2154\")\n",
    "Com=Com.to_crs(\"EPSG:2154\")\n",
    "communes = Com.overlay(polyg_TM, how=\"intersection\")\n",
    "communes=communes.dissolve (by=\"INSEE_COM\",aggfunc=\"first\")\n",
    "communes=communes.reset_index()\n",
    "communes=communes[[\"numdep\",\"INSEE_COM\",\"NOM\",\"geometry\"]]\n",
    "\n",
    "# Chargement des bandes littorales :\n",
    "Bande_Littorale=gpd.read_file(\"BANDE_LITTORALE/BANDE_LITTORALE_SECTEURS.shp\")\n",
    "# Découpage par communes : \n",
    "Bande_Littorale_Com=Bande_Littorale.overlay(communes, how=\"intersection\")\n",
    "Bande_Littorale_Com[\"SURFACE_M2\"]=Bande_Littorale_Com[\"geometry\"].area\n",
    "Bande_Littorale_Com.to_file(\"BANDE_LITTORALE/BANDE_LITTORALE_SECTEURS_COM.shp\")\n",
    "Bande_Littorale_Com.info()"
   ]
  },
  {
   "cell_type": "code",
   "execution_count": 2,
   "metadata": {},
   "outputs": [
    {
     "name": "stdout",
     "output_type": "stream",
     "text": [
      "<class 'geopandas.geodataframe.GeoDataFrame'>\n",
      "RangeIndex: 1994 entries, 0 to 1993\n",
      "Data columns (total 8 columns):\n",
      " #   Column      Non-Null Count  Dtype   \n",
      "---  ------      --------------  -----   \n",
      " 0   BANDE_LITT  1994 non-null   object  \n",
      " 1   INSEE_COM   1994 non-null   object  \n",
      " 2   NOM         1994 non-null   object  \n",
      " 3   SIREN_EPCI  1994 non-null   object  \n",
      " 4   NOM_EPCI    1984 non-null   object  \n",
      " 5   numdep      1994 non-null   object  \n",
      " 6   SURFACE_M2  1994 non-null   float64 \n",
      " 7   geometry    1994 non-null   geometry\n",
      "dtypes: float64(1), geometry(1), object(6)\n",
      "memory usage: 124.8+ KB\n"
     ]
    }
   ],
   "source": [
    "############ Export d'une bande littorale bretonne avec découpage communal:\n",
    "\n",
    "Bande_Littorale_Com=gpd.read_file(\"BANDE_LITTORALE/BANDE_LITTORALE_SECTEURS_COM.shp\")\n",
    "dep=[\"22\",\"29\",\"35\",\"56\",\"44\"]\n",
    "Bande_Littorale_Com[\"INSEE_COM\"]=Bande_Littorale_Com[\"INSEE_COM\"].astype(\"str\")\n",
    "Bande_Littorale_Com[\"numdep\"]=Bande_Littorale_Com[\"INSEE_COM\"].str[:2]\n",
    "Bande_Littorale_Com_Bzh=Bande_Littorale_Com[Bande_Littorale_Com[\"numdep\"].isin(dep)]\n",
    "\n",
    "# Ajouter les EPCI :\n",
    "Com=gpd.read_file(\"ADMIN-EXPRESS/1_DONNEES_LIVRAISON_2023-12-00156/ADE_3-2_SHP_LAMB93_FXX-ED2023-12-19/COMMUNE.shp\")\n",
    "Com=Com[[\"NOM\",\"INSEE_COM\",\"SIREN_EPCI\",\"INSEE_DEP\"]]\n",
    "Com.rename(columns={\"NOM\":\"NOM_COM\"}, inplace=True)\n",
    "epci=gpd.read_file(\"ADMIN-EXPRESS/1_DONNEES_LIVRAISON_2023-12-00156/ADE_3-2_SHP_LAMB93_FXX-ED2023-12-19/EPCI.shp\")\n",
    "epci=epci[[\"CODE_SIREN\",\"NOM\"]]\n",
    "epci.rename(columns={\"NOM\":\"NOM_EPCI\", \"CODE_SIREN\":\"SIREN_EPCI\"}, inplace=True)\n",
    "Com=Com.merge(epci, on=\"SIREN_EPCI\", how=\"left\")\n",
    "dep=[\"22\",\"29\",\"35\",\"56\",\"44\"]\n",
    "Com[\"INSEE_DEP\"]=Com[\"INSEE_DEP\"].astype(\"str\")\n",
    "ComBzh=Com[Com[\"INSEE_DEP\"].isin(dep)]\n",
    "ComBzh=ComBzh[[\"INSEE_COM\",\"SIREN_EPCI\",\"NOM_EPCI\"]]\n",
    "Bande_Littorale_Com_Bzh=Bande_Littorale_Com_Bzh.merge(ComBzh, on=\"INSEE_COM\", how=\"left\")\n",
    "\n",
    "# Bande_Littorale_Com_Bzh=Bande_Littorale_Com_Bzh[Bande_Littorale_Com_Bzh[\"BANDE_LITT\"]!=\"5_10km\"]\n",
    "\n",
    "Bande_Littorale_Com_Bzh=Bande_Littorale_Com_Bzh[['BANDE_LITT','INSEE_COM','NOM','SIREN_EPCI','NOM_EPCI','numdep','SURFACE_M2','geometry']]\n",
    "Bande_Littorale_Com_Bzh.to_file(\"BANDE_LITTORALE/BANDE_LITTORALE_SECTEURS_COM_BZH.shp\")\n",
    "\n",
    "Bande_Littorale_Com_Bzh_STATS=Bande_Littorale_Com_Bzh[[\"BANDE_LITT\",\"numdep\",\"INSEE_COM\",\"NOM\",\"SIREN_EPCI\",\"NOM_EPCI\",\"SURFACE_M2\"]]\n",
    "# Bande_Littorale_Com_Bzh_STATS.to_csv(\"BANDE_LITTORALE/BANDE_LITTORALE_SECTEURS_COM_BZH_STATS.csv\")\n",
    "\n",
    "Bande_Littorale_Com_Bzh.info()\n"
   ]
  },
  {
   "cell_type": "code",
   "execution_count": 4,
   "metadata": {},
   "outputs": [
    {
     "name": "stdout",
     "output_type": "stream",
     "text": [
      "<class 'geopandas.geodataframe.GeoDataFrame'>\n",
      "RangeIndex: 583 entries, 0 to 582\n",
      "Data columns (total 3 columns):\n",
      " #   Column     Non-Null Count  Dtype   \n",
      "---  ------     --------------  -----   \n",
      " 0   INSEE_COM  583 non-null    object  \n",
      " 1   NOM        583 non-null    object  \n",
      " 2   geometry   583 non-null    geometry\n",
      "dtypes: geometry(1), object(2)\n",
      "memory usage: 13.8+ KB\n"
     ]
    }
   ],
   "source": [
    "# Export des contours de communes inclues dans la bande littorale :\n",
    "Bande_Littorale_Bzh=Bande_Littorale_Com_Bzh.dissolve (by=\"INSEE_COM\",aggfunc=\"first\")\n",
    "Bande_Littorale_Bzh=Bande_Littorale_Bzh.reset_index()\n",
    "Bande_Littorale_Bzh=Bande_Littorale_Bzh[[\"INSEE_COM\", \"NOM\", \"geometry\"]]\n",
    "Bande_Littorale_Bzh=Bande_Littorale_Bzh.to_crs(\"epsg:4326\")\n",
    "Bande_Littorale_Bzh.to_file(\"BANDE_LITTORALE/BANDE_LITTORALE10km_COM_BZH.geojson\")\n",
    "Bande_Littorale_Bzh.info()"
   ]
  },
  {
   "cell_type": "code",
   "execution_count": 2,
   "metadata": {},
   "outputs": [],
   "source": [
    "com=gpd.read_file(\"BANDE_LITTORALE/LittComBzh_ok.geojson\")\n",
    "com=com[[\"INSEE_COM\", \"NOM\"]]\n",
    "com.to_csv(\"COM_LITT5km_Bzh.csv\")"
   ]
  },
  {
   "cell_type": "code",
   "execution_count": 18,
   "metadata": {},
   "outputs": [
    {
     "name": "stdout",
     "output_type": "stream",
     "text": [
      "<class 'geopandas.geodataframe.GeoDataFrame'>\n",
      "Index: 377 entries, 1 to 430\n",
      "Data columns (total 71 columns):\n",
      " #   Column                          Non-Null Count  Dtype   \n",
      "---  ------                          --------------  -----   \n",
      " 0   INSEE_COM                       377 non-null    object  \n",
      " 1   geometry                        377 non-null    geometry\n",
      " 2   NOM_COMMUNE                     377 non-null    object  \n",
      " 3   SIREN_EPCI                      376 non-null    float64 \n",
      " 4   NOM_EPCI                        376 non-null    object  \n",
      " 5   scot                            375 non-null    object  \n",
      " 6   aav2020                         376 non-null    object  \n",
      " 7   Surface_Com_Bande5km            376 non-null    float64 \n",
      " 8   Part_Com_Bande5km               376 non-null    float64 \n",
      " 9   Artif2014_m2                    376 non-null    float64 \n",
      " 10  Artif2024_m2                    376 non-null    float64 \n",
      " 11  Part_Artif2014                  376 non-null    float64 \n",
      " 12  EvolArtif                       376 non-null    float64 \n",
      " 13  Part_Resid_Sec_20               377 non-null    object  \n",
      " 14  P14_RSECOCC                     377 non-null    object  \n",
      " 15  P20_RSECOCC                     377 non-null    object  \n",
      " 16  pop14                           377 non-null    float64 \n",
      " 17  pop20                           377 non-null    float64 \n",
      " 18  pop1420                         377 non-null    float64 \n",
      " 19  men14                           377 non-null    float64 \n",
      " 20  men20                           377 non-null    float64 \n",
      " 21  men1420                         377 non-null    float64 \n",
      " 22  emp14                           377 non-null    float64 \n",
      " 23  emp20                           377 non-null    float64 \n",
      " 24  emp1420                         377 non-null    float64 \n",
      " 25  mepart1420                      377 non-null    object  \n",
      " 26  menhab1420                      377 non-null    object  \n",
      " 27  artpop1420                      374 non-null    object  \n",
      " 28  surfcom2023                     377 non-null    float64 \n",
      " 29  naf14art23                      377 non-null    float64 \n",
      " 30  naf14art20                      377 non-null    float64 \n",
      " 31  art14hab23                      377 non-null    float64 \n",
      " 32  art14hab20                      377 non-null    float64 \n",
      " 33  naf14art15                      377 non-null    float64 \n",
      " 34  naf15art16                      377 non-null    float64 \n",
      " 35  naf16art17                      377 non-null    float64 \n",
      " 36  naf17art18                      377 non-null    float64 \n",
      " 37  naf18art19                      377 non-null    float64 \n",
      " 38  naf19art20                      377 non-null    float64 \n",
      " 39  naf20art21                      377 non-null    float64 \n",
      " 40  naf21art22                      377 non-null    float64 \n",
      " 41  naf22art23                      377 non-null    float64 \n",
      " 42  Nb_Permis_HorsZoneUrba          377 non-null    float64 \n",
      " 43  Total_Permis                    377 non-null    float64 \n",
      " 44  Part_Permis_Hors_ZoneArtif2014  377 non-null    object  \n",
      " 45  Part_Permis_annules             377 non-null    float64 \n",
      " 46  Part_Demandeurs_MEME_COMMUN     377 non-null    float64 \n",
      " 47  Part_Demandeurs_MEME_EPCI       377 non-null    float64 \n",
      " 48  Part_Demandeurs_MEME_DEP        377 non-null    float64 \n",
      " 49  Part_Demandeurs_BRETAGNE        377 non-null    float64 \n",
      " 50  Part_Demandeurs_Ouest           377 non-null    float64 \n",
      " 51  Part_Demandeurs_LOINTAINS       377 non-null    float64 \n",
      " 52  Nouveaux_Logements              377 non-null    float64 \n",
      " 53  Resid_secondaire                377 non-null    float64 \n",
      " 54  Surface_terrains                377 non-null    float64 \n",
      " 55  Surface_Logements               377 non-null    float64 \n",
      " 56  Surface_Locaux                  377 non-null    float64 \n",
      " 57  Surface_hotels                  377 non-null    float64 \n",
      " 58  Surface_bureaux                 377 non-null    float64 \n",
      " 59  Surface_commerces               377 non-null    float64 \n",
      " 60  Surface_artisanat               377 non-null    float64 \n",
      " 61  Surface_industrie               377 non-null    float64 \n",
      " 62  Surface_bat_agricoles           377 non-null    float64 \n",
      " 63  Surface_entrepots               377 non-null    float64 \n",
      " 64  Surface_services_publics        377 non-null    float64 \n",
      " 65  100m                            78 non-null     float64 \n",
      " 66  100_200m                        85 non-null     float64 \n",
      " 67  200_500m                        183 non-null    float64 \n",
      " 68  500m_1km                        228 non-null    float64 \n",
      " 69  1_5km                           338 non-null    float64 \n",
      " 70  5_10km                          132 non-null    float64 \n",
      "dtypes: float64(58), geometry(1), object(12)\n",
      "memory usage: 212.1+ KB\n"
     ]
    }
   ],
   "source": [
    "com=gpd.read_file(\"BANDE_LITTORALE/LittComBzh_ok.geojson\")\n",
    "stats=pd.read_csv(\"BANDE_LITTORALE/COM_LITT_DEF - SYNTHESE_COM_DEF_BZH.csv\")\n",
    "com.info()\n",
    "com=com[[\"INSEE_COM\", \"geometry\"]]\n",
    "com[\"INSEE_COM\"]=com[\"INSEE_COM\"].astype(\"str\")\n",
    "stats[\"INSEE_COM\"]=stats[\"INSEE_COM\"].astype(\"str\")\n",
    "com_stats=com.merge(stats, on=\"INSEE_COM\", how=\"left\")\n",
    "com_stats=com_stats[com_stats[\"NOM_COMMUNE\"].notna()]\n",
    "com_stats.to_file(\"Com_Stats_Litt.geojson\")\n",
    "\n",
    "com_stats.info()"
   ]
  },
  {
   "cell_type": "code",
   "execution_count": 9,
   "metadata": {},
   "outputs": [
    {
     "name": "stdout",
     "output_type": "stream",
     "text": [
      "<class 'geopandas.geodataframe.GeoDataFrame'>\n",
      "RangeIndex: 5 entries, 0 to 4\n",
      "Data columns (total 3 columns):\n",
      " #   Column      Non-Null Count  Dtype   \n",
      "---  ------      --------------  -----   \n",
      " 0   BANDE_LITT  5 non-null      object  \n",
      " 1   geometry    5 non-null      geometry\n",
      " 2   SURFACE_M2  5 non-null      float64 \n",
      "dtypes: float64(1), geometry(1), object(1)\n",
      "memory usage: 248.0+ bytes\n"
     ]
    },
    {
     "name": "stderr",
     "output_type": "stream",
     "text": [
      "/Users/denisvannier/opt/anaconda3/envs/GEODATA2/lib/python3.9/site-packages/pyogrio/raw.py:709: RuntimeWarning: Value 243312394.16378352 of field SURFACE_M2 of feature 0 not successfully written. Possibly due to too larger number with respect to field width\n",
      "  ogr_write(\n",
      "/Users/denisvannier/opt/anaconda3/envs/GEODATA2/lib/python3.9/site-packages/pyogrio/raw.py:709: RuntimeWarning: Value 283400323.712418377 of field SURFACE_M2 of feature 1 not successfully written. Possibly due to too larger number with respect to field width\n",
      "  ogr_write(\n",
      "/Users/denisvannier/opt/anaconda3/envs/GEODATA2/lib/python3.9/site-packages/pyogrio/raw.py:709: RuntimeWarning: Value 3986085658.41204166 of field SURFACE_M2 of feature 2 not successfully written. Possibly due to too larger number with respect to field width\n",
      "  ogr_write(\n",
      "/Users/denisvannier/opt/anaconda3/envs/GEODATA2/lib/python3.9/site-packages/pyogrio/raw.py:709: RuntimeWarning: Value 606363558.925946474 of field SURFACE_M2 of feature 3 not successfully written. Possibly due to too larger number with respect to field width\n",
      "  ogr_write(\n",
      "/Users/denisvannier/opt/anaconda3/envs/GEODATA2/lib/python3.9/site-packages/pyogrio/raw.py:709: RuntimeWarning: Value 837001410.971088529 of field SURFACE_M2 of feature 4 not successfully written. Possibly due to too larger number with respect to field width\n",
      "  ogr_write(\n"
     ]
    }
   ],
   "source": [
    "# Export d'une bande littorale bretonne sans le découpage communal:\n",
    "Bande_Littorale_Bzh=Bande_Littorale_Com_Bzh.dissolve (by=\"BANDE_LITT\",aggfunc=\"first\")\n",
    "Bande_Littorale_Bzh=Bande_Littorale_Bzh.reset_index()\n",
    "Bande_Littorale_Bzh=Bande_Littorale_Bzh[[\"BANDE_LITT\", \"geometry\"]]\n",
    "Bande_Littorale_Bzh[\"SURFACE_M2\"]=Bande_Littorale_Bzh[\"geometry\"].area\n",
    "Bande_Littorale_Bzh.to_file(\"BANDE_LITTORALE/BANDE_LITTORALE_SECTEURS_BZH.shp\")\n",
    "Bande_Littorale_Bzh=Bande_Littorale_Bzh.dissolve()\n",
    "Bande_Littorale_Bzh.to_file(\"BANDE_LITTORALE/BANDE_LITTORALE_DISSOLVE_BZH.shp\")\n",
    "Bande_Littorale_Bzh.info()"
   ]
  }
 ],
 "metadata": {
  "kernelspec": {
   "display_name": "GEODATA2",
   "language": "python",
   "name": "python3"
  },
  "language_info": {
   "codemirror_mode": {
    "name": "ipython",
    "version": 3
   },
   "file_extension": ".py",
   "mimetype": "text/x-python",
   "name": "python",
   "nbconvert_exporter": "python",
   "pygments_lexer": "ipython3",
   "version": "3.9.19"
  },
  "orig_nbformat": 4
 },
 "nbformat": 4,
 "nbformat_minor": 2
}
